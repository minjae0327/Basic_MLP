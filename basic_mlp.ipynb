{
 "cells": [
  {
   "cell_type": "code",
   "execution_count": 1,
   "id": "b9d83279",
   "metadata": {},
   "outputs": [],
   "source": [
    "import numpy as np"
   ]
  },
  {
   "cell_type": "code",
   "execution_count": 2,
   "id": "d57fd97b",
   "metadata": {},
   "outputs": [],
   "source": [
    "class Sigmoid:\n",
    "    def __init__(self):\n",
    "        self.out = None # 인스턴스 변수 Out (위 식에서 y에 해당)\n",
    "\n",
    "    def forward(self, x):\n",
    "        out = 1 / (1 + np.exp(-x)) # 그냥 순전파\n",
    "        self.out = out # 역전파때 사용할 y\n",
    "\n",
    "        return out\n",
    "\n",
    "    def backward(self, dout):\n",
    "        dx = dout * (1.0 - self.out) * self.out # y를 그대로 다시 사용\n",
    "\n",
    "        return dx"
   ]
  },
  {
   "cell_type": "code",
   "execution_count": 3,
   "id": "84841e55",
   "metadata": {},
   "outputs": [],
   "source": [
    "class NeuralNetwork:\n",
    "    def __init__(self, input_node, w1, w2, target):\n",
    "        self.input_node = input_node\n",
    "        self.w1 = w1\n",
    "        self.w2 = w2\n",
    "        self.target = target\n",
    "        self.sigmoid = Sigmoid()\n",
    "        \n",
    "    def train(self, count):\n",
    "        for i in range(count):\n",
    "            # two hidden layers\n",
    "            a1 = np.dot(self.w1, self.input_node)\n",
    "            z1 = self.sigmoid.forward(a1)\n",
    "            a2 = np.dot(self.w2, z1)\n",
    "            z2 = self.sigmoid.forward(a2)\n",
    "            \n",
    "            result = np.round(z2, 3)\n",
    "\n",
    "            e2 = self.target - result\n",
    "            delta2 = self.sigmoid.backward(z2) * e2\n",
    "\n",
    "            w2_t = self.w2.T\n",
    "            e1 = w2_t * delta2\n",
    "            delta1 = self.sigmoid.backward(z1) * e1\n",
    "\n",
    "            w1_t = self.w1.T\n",
    "            e0 = w1_t * delta1\n",
    "\n",
    "            self.w1 = self.w1 + delta1 * self.input_node\n",
    "            self.w2 = self.w2 + delta2 * z1\n",
    "        \n",
    "            \n",
    "        return result\n",
    "    \n",
    "    def query(self):\n",
    "        pass"
   ]
  },
  {
   "cell_type": "code",
   "execution_count": 4,
   "id": "7eb0ca5e",
   "metadata": {},
   "outputs": [],
   "source": [
    "input_node = np.array([[0.9], [0.1], [0.8]])\n",
    "\n",
    "w1 = np.array([[0.9, 0.3, 0.4], \n",
    "                    [0.2, 0.8, 0.2], \n",
    "                    [0.1, 0.5, 0.6]])\n",
    "\n",
    "w2 = np.array([[0.3, 0.7, 0.5], \n",
    "                   [0.6, 0.5, 0.2], \n",
    "                   [0.8, 0.1, 0.9]])\n",
    "\n",
    "target = np.array([[0.6], [0.8], [0.5]])\n",
    "\n",
    "learning_rate = 0.1"
   ]
  },
  {
   "cell_type": "code",
   "execution_count": 5,
   "id": "7cf26ea9",
   "metadata": {},
   "outputs": [],
   "source": [
    "NN = NeuralNetwork(input_node, w1, w2, target)"
   ]
  },
  {
   "cell_type": "code",
   "execution_count": 6,
   "id": "2ea39a22",
   "metadata": {},
   "outputs": [],
   "source": [
    "result_node = NN.train(100)"
   ]
  },
  {
   "cell_type": "code",
   "execution_count": 7,
   "id": "ee6a2c68",
   "metadata": {},
   "outputs": [
    {
     "name": "stdout",
     "output_type": "stream",
     "text": [
      "[[0.601]\n",
      " [0.795]\n",
      " [0.504]]\n"
     ]
    }
   ],
   "source": [
    "print(result_node)"
   ]
  },
  {
   "cell_type": "code",
   "execution_count": null,
   "id": "797a2fa0",
   "metadata": {},
   "outputs": [],
   "source": []
  }
 ],
 "metadata": {
  "kernelspec": {
   "display_name": "base",
   "language": "python",
   "name": "python3"
  },
  "language_info": {
   "codemirror_mode": {
    "name": "ipython",
    "version": 3
   },
   "file_extension": ".py",
   "mimetype": "text/x-python",
   "name": "python",
   "nbconvert_exporter": "python",
   "pygments_lexer": "ipython3",
   "version": "3.9.13 (main, Aug 25 2022, 23:51:50) [MSC v.1916 64 bit (AMD64)]"
  },
  "vscode": {
   "interpreter": {
    "hash": "7457b89da50d534f8dda450e1eb756651d5850e41075c640444b09f44c0a739d"
   }
  }
 },
 "nbformat": 4,
 "nbformat_minor": 5
}
